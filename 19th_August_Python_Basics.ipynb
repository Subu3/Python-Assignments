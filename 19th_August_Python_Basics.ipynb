{
 "cells": [
  {
   "cell_type": "code",
   "execution_count": 9,
   "id": "e5d29d8f-34df-4433-897e-d94530b0c97a",
   "metadata": {},
   "outputs": [
    {
     "name": "stdout",
     "output_type": "stream",
     "text": [
      " The declared values of variables, x and y are : 45 and 55\n",
      " The swapped values of the variables are  : 55 and 45\n"
     ]
    }
   ],
   "source": [
    "# Swap the values of the variables without using any temporary variable.\n",
    "# Variable declaration\n",
    "x = 45\n",
    "y = 55\n",
    "print (\" The declared values of variables, x and y are :\", x, \"and\", y)\n",
    "# Swappping the values\n",
    "x,y = y,x\n",
    "print (\" The swapped values of the variables are  :\", x, \"and\", y)"
   ]
  },
  {
   "cell_type": "code",
   "execution_count": 19,
   "id": "b80f5a4d-4468-42a0-8b4c-dce60a8b6507",
   "metadata": {},
   "outputs": [
    {
     "name": "stdin",
     "output_type": "stream",
     "text": [
      "Enter the length of the triangle :  25.9\n",
      "Enter the breadth of the triangle :  56.8\n"
     ]
    },
    {
     "name": "stdout",
     "output_type": "stream",
     "text": [
      "Area of the Rectangle : 1471.12\n"
     ]
    }
   ],
   "source": [
    "# Calculating the area of the rectangle\n",
    "leng = float (input (\"Enter the length of the triangle : \"))\n",
    "bre = float (input (\"Enter the breadth of the triangle : \"))\n",
    "Area = leng * bre\n",
    "print (\"Area of the Rectangle :\", Area)"
   ]
  },
  {
   "cell_type": "code",
   "execution_count": 21,
   "id": "6f6c0cd9-3e86-454f-ace6-ea56f5fd343b",
   "metadata": {},
   "outputs": [
    {
     "name": "stdin",
     "output_type": "stream",
     "text": [
      "Enter the Value of temperature in Celsius 33.5\n"
     ]
    },
    {
     "name": "stdout",
     "output_type": "stream",
     "text": [
      "The temperature in Fahreheit is 92.3\n"
     ]
    }
   ],
   "source": [
    "# Conversion of Temperature in Celsius to Fahreheit\n",
    "Cel = float (input(\"Enter the Value of temperature in Celsius\"))\n",
    "Fah = (9*Cel)/5 + 32\n",
    "print (\"The temperature in Fahreheit is\", Fah)"
   ]
  },
  {
   "cell_type": "code",
   "execution_count": 4,
   "id": "0a0bf485-5057-459b-bd0d-7fdfbc0db7a7",
   "metadata": {},
   "outputs": [
    {
     "name": "stdin",
     "output_type": "stream",
     "text": [
      "Enter the String subu\n"
     ]
    },
    {
     "name": "stdout",
     "output_type": "stream",
     "text": [
      "The length of the String is: 4\n"
     ]
    }
   ],
   "source": [
    "# Python program that takes a string as input and prints the length of the string.\n",
    "s1 = input (\"Enter the String\")\n",
    "print (\"The length of the String is:\", len(s1))"
   ]
  },
  {
   "cell_type": "code",
   "execution_count": 5,
   "id": "28451a0a-9593-47c9-910e-ad8bc298493d",
   "metadata": {},
   "outputs": [
    {
     "name": "stdin",
     "output_type": "stream",
     "text": [
      " Enter the sentence to be searched for :  i am a proud indian\n"
     ]
    },
    {
     "name": "stdout",
     "output_type": "stream",
     "text": [
      "8\n"
     ]
    }
   ],
   "source": [
    "# Program that takes a sentence from the user and counts the number of vowels (a, e, i, o, u) in the string.\n",
    "# Initialising the Vowels\n",
    "vowel = ['a','e','i','o','u']\n",
    "# Sentence input by user \n",
    "sentence =  input (\" Enter the sentence to be searched for : \")\n",
    "count = 0\n",
    "for letter in sentence:\n",
    "    if letter in vowel:\n",
    "        count+=1\n",
    "print(count)"
   ]
  },
  {
   "cell_type": "code",
   "execution_count": 25,
   "id": "8c64fc0e-4eab-477c-9383-ec4802bf598d",
   "metadata": {},
   "outputs": [
    {
     "name": "stdin",
     "output_type": "stream",
     "text": [
      "Enter the String : subu\n"
     ]
    },
    {
     "name": "stdout",
     "output_type": "stream",
     "text": [
      "The Reversed string is ubus\n"
     ]
    }
   ],
   "source": [
    "# Reverse the order of characters using string slicing and print the reversed string.\n",
    "s01 = input (\"Enter the String :\")\n",
    "s02 = s01 [ : :-1]\n",
    "print (\"The Reversed string is\", s02)"
   ]
  },
  {
   "cell_type": "code",
   "execution_count": 34,
   "id": "1f2105b6-5f72-4f31-b40d-b9943abb461b",
   "metadata": {},
   "outputs": [
    {
     "name": "stdin",
     "output_type": "stream",
     "text": [
      "Enter the String : sutus\n"
     ]
    },
    {
     "name": "stdout",
     "output_type": "stream",
     "text": [
      "The string is a Pallindrome\n"
     ]
    }
   ],
   "source": [
    "# Program that takes a string as input and checks if it is a palindrome\n",
    "s11 = input (\"Enter the String :\")\n",
    "s12 = s11 [ : :-1]\n",
    "if s11 == s12:\n",
    "    print (\"The string is a Pallindrome\")\n",
    "else:\n",
    "    print (\"The string is not a pallindrome\")"
   ]
  },
  {
   "cell_type": "code",
   "execution_count": 7,
   "id": "67a7b935-b35d-47f6-b513-58655ab28698",
   "metadata": {},
   "outputs": [
    {
     "name": "stdin",
     "output_type": "stream",
     "text": [
      "Enter the String, from which spaces are to be removed : India is my country\n"
     ]
    },
    {
     "name": "stdout",
     "output_type": "stream",
     "text": [
      " The updated sentence is : Indiaismycountry\n"
     ]
    }
   ],
   "source": [
    "# Program that takes a string as input and removes all the spaces from it.\n",
    "S = input (\"Enter the String, from which spaces are to be removed :\")\n",
    "S_without_space =  S.replace(\" \",\"\")\n",
    "print (\" The updated sentence is :\", S_without_space)"
   ]
  },
  {
   "cell_type": "code",
   "execution_count": null,
   "id": "288f4111-ef80-41e5-83ce-aa8299a7bdd4",
   "metadata": {},
   "outputs": [],
   "source": []
  }
 ],
 "metadata": {
  "kernelspec": {
   "display_name": "Python 3 (ipykernel)",
   "language": "python",
   "name": "python3"
  },
  "language_info": {
   "codemirror_mode": {
    "name": "ipython",
    "version": 3
   },
   "file_extension": ".py",
   "mimetype": "text/x-python",
   "name": "python",
   "nbconvert_exporter": "python",
   "pygments_lexer": "ipython3",
   "version": "3.10.8"
  }
 },
 "nbformat": 4,
 "nbformat_minor": 5
}
